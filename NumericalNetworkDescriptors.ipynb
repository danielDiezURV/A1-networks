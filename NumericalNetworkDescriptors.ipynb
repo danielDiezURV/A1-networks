{
 "cells": [
  {
   "cell_type": "code",
   "execution_count": 1,
   "metadata": {},
   "outputs": [
    {
     "name": "stderr",
     "output_type": "stream",
     "text": [
      "C:\\Users\\danid\\AppData\\Local\\Packages\\PythonSoftwareFoundation.Python.3.11_qbz5n2kfra8p0\\LocalCache\\local-packages\\Python311\\site-packages\\networkx\\algorithms\\assortativity\\correlation.py:298: RuntimeWarning: invalid value encountered in scalar divide\n",
      "  return (xy * (M - ab)).sum() / np.sqrt(vara * varb)\n"
     ]
    }
   ],
   "source": [
    "import networkx as nx\n",
    "from os import listdir\n",
    "from os.path import isfile, join\n",
    "\n",
    "# Create a network\n",
    "folders = [\"toy\", \"model\", \"real\"]\n",
    "with open('network_descriptors.csv', 'w') as network_table:\n",
    "    network_table.write(\"folder;file;num_nodes;num_edges;min_degree;max_degree;avg_degree;avg_clustering_coefficient;assortativity;avg_path_length;diameter\\n\")\n",
    "\n",
    "    for folder in folders:\n",
    "        # get all .net files from folder\n",
    "        files = [f for f in listdir(folder) if isfile(join(folder, f)) and f.endswith(\".net\")]\n",
    "        \n",
    "        for file in files:\n",
    "            G = nx.Graph(nx.read_pajek(join(folder, file)))\n",
    "\n",
    "            num_nodes = G.number_of_nodes()                                 # Number of nodes\n",
    "            num_edges = G.number_of_edges()                                 # Number of edges\n",
    "            degrees = list(dict(G.degree()).values())                       # Degrees\n",
    "            min_degree = min(degrees)                                       # Minimum degree \n",
    "            max_degree = max(degrees)                                       # Maximum degree\n",
    "            avg_degree = sum(degrees) / num_nodes                           # Average degree\n",
    "            avg_clustering_coefficient = nx.average_clustering(G)           # Average clustering coefficient\n",
    "            assortativity = nx.degree_assortativity_coefficient(G)          # Assortativity\n",
    "            avg_path_length = nx.average_shortest_path_length(G)            # Average path length\n",
    "            diameter = nx.diameter(G)                                       # Diameter\n",
    "\n",
    "            network_table.write(f\"{folder};{file};{num_nodes};{num_edges};{min_degree};{max_degree};{avg_degree};{avg_clustering_coefficient};{assortativity};{avg_path_length};{diameter}\\n\")\n",
    "\n"
   ]
  }
 ],
 "metadata": {
  "kernelspec": {
   "display_name": "Python 3",
   "language": "python",
   "name": "python3"
  },
  "language_info": {
   "codemirror_mode": {
    "name": "ipython",
    "version": 3
   },
   "file_extension": ".py",
   "mimetype": "text/x-python",
   "name": "python",
   "nbconvert_exporter": "python",
   "pygments_lexer": "ipython3",
   "version": "3.11.8"
  }
 },
 "nbformat": 4,
 "nbformat_minor": 2
}
